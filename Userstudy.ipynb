{
 "cells": [
  {
   "cell_type": "code",
   "execution_count": 1,
   "id": "c8a73c3c-5779-43a9-aeff-385d761c0d3a",
   "metadata": {},
   "outputs": [],
   "source": [
    "import pandas as pd\n",
    "\n",
    "from pathlib import Path"
   ]
  },
  {
   "cell_type": "markdown",
   "id": "24b166e0-df80-4f14-a476-094ee778acba",
   "metadata": {},
   "source": [
    "# Processing the results from the user study"
   ]
  },
  {
   "cell_type": "code",
   "execution_count": 2,
   "id": "2b6f342f-399b-437a-a901-29aae383a0f9",
   "metadata": {},
   "outputs": [],
   "source": [
    "# Set file path to .csv from Google Forms, check if file exists\n",
    "csv_file = Path(\"./data/Koalarization_userstudy.csv\")\n",
    "assert csv_file.is_file()"
   ]
  },
  {
   "cell_type": "code",
   "execution_count": 3,
   "id": "37efb8dc-f2c8-4334-8066-474673780602",
   "metadata": {},
   "outputs": [
    {
     "data": {
      "text/html": [
       "<div>\n",
       "<style scoped>\n",
       "    .dataframe tbody tr th:only-of-type {\n",
       "        vertical-align: middle;\n",
       "    }\n",
       "\n",
       "    .dataframe tbody tr th {\n",
       "        vertical-align: top;\n",
       "    }\n",
       "\n",
       "    .dataframe thead th {\n",
       "        text-align: right;\n",
       "    }\n",
       "</style>\n",
       "<table border=\"1\" class=\"dataframe\">\n",
       "  <thead>\n",
       "    <tr style=\"text-align: right;\">\n",
       "      <th></th>\n",
       "      <th>Tijdstempel</th>\n",
       "      <th>Image 1042</th>\n",
       "      <th>Image 4062</th>\n",
       "      <th>Image 91</th>\n",
       "      <th>Image 4646</th>\n",
       "      <th>Image 837</th>\n",
       "      <th>Image 4158</th>\n",
       "      <th>Image 4550</th>\n",
       "      <th>Image 4553</th>\n",
       "      <th>Image 4406</th>\n",
       "      <th>Image 110</th>\n",
       "      <th>Image 230</th>\n",
       "      <th>Image 311</th>\n",
       "    </tr>\n",
       "  </thead>\n",
       "  <tbody>\n",
       "    <tr>\n",
       "      <th>0</th>\n",
       "      <td>2022/03/29 5:12:49 p.m. EET</td>\n",
       "      <td>Real</td>\n",
       "      <td>Real</td>\n",
       "      <td>Real</td>\n",
       "      <td>Real</td>\n",
       "      <td>Real</td>\n",
       "      <td>Fake</td>\n",
       "      <td>Real</td>\n",
       "      <td>Fake</td>\n",
       "      <td>Real</td>\n",
       "      <td>Real</td>\n",
       "      <td>Real</td>\n",
       "      <td>Real</td>\n",
       "    </tr>\n",
       "    <tr>\n",
       "      <th>1</th>\n",
       "      <td>2022/03/29 5:14:18 p.m. EET</td>\n",
       "      <td>Real</td>\n",
       "      <td>Real</td>\n",
       "      <td>Fake</td>\n",
       "      <td>Real</td>\n",
       "      <td>Real</td>\n",
       "      <td>Real</td>\n",
       "      <td>Fake</td>\n",
       "      <td>Fake</td>\n",
       "      <td>Real</td>\n",
       "      <td>Fake</td>\n",
       "      <td>Fake</td>\n",
       "      <td>Real</td>\n",
       "    </tr>\n",
       "    <tr>\n",
       "      <th>2</th>\n",
       "      <td>2022/03/29 5:15:05 p.m. EET</td>\n",
       "      <td>Real</td>\n",
       "      <td>Real</td>\n",
       "      <td>Real</td>\n",
       "      <td>Real</td>\n",
       "      <td>Fake</td>\n",
       "      <td>Fake</td>\n",
       "      <td>Real</td>\n",
       "      <td>Fake</td>\n",
       "      <td>Real</td>\n",
       "      <td>Fake</td>\n",
       "      <td>Real</td>\n",
       "      <td>Fake</td>\n",
       "    </tr>\n",
       "    <tr>\n",
       "      <th>3</th>\n",
       "      <td>2022/03/29 5:16:42 p.m. EET</td>\n",
       "      <td>Real</td>\n",
       "      <td>Real</td>\n",
       "      <td>Fake</td>\n",
       "      <td>Real</td>\n",
       "      <td>Real</td>\n",
       "      <td>Fake</td>\n",
       "      <td>Fake</td>\n",
       "      <td>Real</td>\n",
       "      <td>Fake</td>\n",
       "      <td>Real</td>\n",
       "      <td>Real</td>\n",
       "      <td>Real</td>\n",
       "    </tr>\n",
       "    <tr>\n",
       "      <th>4</th>\n",
       "      <td>2022/03/29 5:18:25 p.m. EET</td>\n",
       "      <td>Real</td>\n",
       "      <td>Fake</td>\n",
       "      <td>Real</td>\n",
       "      <td>Fake</td>\n",
       "      <td>Fake</td>\n",
       "      <td>Fake</td>\n",
       "      <td>Real</td>\n",
       "      <td>Fake</td>\n",
       "      <td>Real</td>\n",
       "      <td>Real</td>\n",
       "      <td>Real</td>\n",
       "      <td>Fake</td>\n",
       "    </tr>\n",
       "  </tbody>\n",
       "</table>\n",
       "</div>"
      ],
      "text/plain": [
       "                   Tijdstempel Image 1042 Image 4062 Image 91 Image 4646  \\\n",
       "0  2022/03/29 5:12:49 p.m. EET       Real       Real     Real       Real   \n",
       "1  2022/03/29 5:14:18 p.m. EET       Real       Real     Fake       Real   \n",
       "2  2022/03/29 5:15:05 p.m. EET       Real       Real     Real       Real   \n",
       "3  2022/03/29 5:16:42 p.m. EET       Real       Real     Fake       Real   \n",
       "4  2022/03/29 5:18:25 p.m. EET       Real       Fake     Real       Fake   \n",
       "\n",
       "  Image 837 Image 4158 Image 4550 Image 4553 Image 4406 Image 110 Image 230  \\\n",
       "0      Real       Fake       Real       Fake       Real      Real      Real   \n",
       "1      Real       Real       Fake       Fake       Real      Fake      Fake   \n",
       "2      Fake       Fake       Real       Fake       Real      Fake      Real   \n",
       "3      Real       Fake       Fake       Real       Fake      Real      Real   \n",
       "4      Fake       Fake       Real       Fake       Real      Real      Real   \n",
       "\n",
       "  Image 311  \n",
       "0      Real  \n",
       "1      Real  \n",
       "2      Fake  \n",
       "3      Real  \n",
       "4      Fake  "
      ]
     },
     "execution_count": 3,
     "metadata": {},
     "output_type": "execute_result"
    }
   ],
   "source": [
    "# Read file to Pandas Dataframe\n",
    "df = pd.read_csv(csv_file)\n",
    "df.head()"
   ]
  },
  {
   "cell_type": "code",
   "execution_count": 4,
   "id": "9d53a21b-50e1-48d9-a895-1e3a974da08f",
   "metadata": {},
   "outputs": [
    {
     "data": {
      "text/html": [
       "<div>\n",
       "<style scoped>\n",
       "    .dataframe tbody tr th:only-of-type {\n",
       "        vertical-align: middle;\n",
       "    }\n",
       "\n",
       "    .dataframe tbody tr th {\n",
       "        vertical-align: top;\n",
       "    }\n",
       "\n",
       "    .dataframe thead th {\n",
       "        text-align: right;\n",
       "    }\n",
       "</style>\n",
       "<table border=\"1\" class=\"dataframe\">\n",
       "  <thead>\n",
       "    <tr style=\"text-align: right;\">\n",
       "      <th></th>\n",
       "      <th>Image 1042</th>\n",
       "      <th>Image 4062</th>\n",
       "      <th>Image 91</th>\n",
       "      <th>Image 4646</th>\n",
       "      <th>Image 837</th>\n",
       "      <th>Image 4158</th>\n",
       "      <th>Image 4550</th>\n",
       "      <th>Image 4553</th>\n",
       "      <th>Image 4406</th>\n",
       "      <th>Image 110</th>\n",
       "      <th>Image 230</th>\n",
       "      <th>Image 311</th>\n",
       "    </tr>\n",
       "  </thead>\n",
       "  <tbody>\n",
       "    <tr>\n",
       "      <th>count</th>\n",
       "      <td>60</td>\n",
       "      <td>60</td>\n",
       "      <td>60</td>\n",
       "      <td>60</td>\n",
       "      <td>60</td>\n",
       "      <td>60</td>\n",
       "      <td>60</td>\n",
       "      <td>60</td>\n",
       "      <td>59</td>\n",
       "      <td>60</td>\n",
       "      <td>60</td>\n",
       "      <td>60</td>\n",
       "    </tr>\n",
       "    <tr>\n",
       "      <th>unique</th>\n",
       "      <td>2</td>\n",
       "      <td>2</td>\n",
       "      <td>2</td>\n",
       "      <td>2</td>\n",
       "      <td>2</td>\n",
       "      <td>2</td>\n",
       "      <td>2</td>\n",
       "      <td>2</td>\n",
       "      <td>2</td>\n",
       "      <td>2</td>\n",
       "      <td>2</td>\n",
       "      <td>2</td>\n",
       "    </tr>\n",
       "    <tr>\n",
       "      <th>top</th>\n",
       "      <td>Real</td>\n",
       "      <td>Real</td>\n",
       "      <td>Fake</td>\n",
       "      <td>Real</td>\n",
       "      <td>Fake</td>\n",
       "      <td>Fake</td>\n",
       "      <td>Fake</td>\n",
       "      <td>Fake</td>\n",
       "      <td>Real</td>\n",
       "      <td>Real</td>\n",
       "      <td>Real</td>\n",
       "      <td>Fake</td>\n",
       "    </tr>\n",
       "    <tr>\n",
       "      <th>freq</th>\n",
       "      <td>47</td>\n",
       "      <td>41</td>\n",
       "      <td>36</td>\n",
       "      <td>34</td>\n",
       "      <td>42</td>\n",
       "      <td>44</td>\n",
       "      <td>33</td>\n",
       "      <td>36</td>\n",
       "      <td>31</td>\n",
       "      <td>47</td>\n",
       "      <td>50</td>\n",
       "      <td>37</td>\n",
       "    </tr>\n",
       "  </tbody>\n",
       "</table>\n",
       "</div>"
      ],
      "text/plain": [
       "       Image 1042 Image 4062 Image 91 Image 4646 Image 837 Image 4158  \\\n",
       "count          60         60       60         60        60         60   \n",
       "unique          2          2        2          2         2          2   \n",
       "top          Real       Real     Fake       Real      Fake       Fake   \n",
       "freq           47         41       36         34        42         44   \n",
       "\n",
       "       Image 4550 Image 4553 Image 4406 Image 110 Image 230 Image 311  \n",
       "count          60         60         59        60        60        60  \n",
       "unique          2          2          2         2         2         2  \n",
       "top          Fake       Fake       Real      Real      Real      Fake  \n",
       "freq           33         36         31        47        50        37  "
      ]
     },
     "execution_count": 4,
     "metadata": {},
     "output_type": "execute_result"
    }
   ],
   "source": [
    "# Drop unused column\n",
    "df.drop(\"Tijdstempel\", axis=1, inplace=True)\n",
    "df.describe()"
   ]
  },
  {
   "cell_type": "code",
   "execution_count": 5,
   "id": "7c22a21b-24c8-4201-b019-e7c0e8c628e6",
   "metadata": {},
   "outputs": [],
   "source": [
    "original = [\"Image 110\", \"Image 230\", \"Image 311\"]  # Original (not recoloured) images\n",
    "num_responses = len(df)  # Number of responses"
   ]
  },
  {
   "cell_type": "code",
   "execution_count": 6,
   "id": "91db0e88-7e45-4ddb-9c5f-8ffb88e61b03",
   "metadata": {},
   "outputs": [
    {
     "data": {
      "text/plain": [
       "Image 1042    0.783333\n",
       "Image 4062    0.683333\n",
       "Image 91      0.400000\n",
       "Image 4646    0.566667\n",
       "Image 837     0.300000\n",
       "Image 4158    0.266667\n",
       "Image 4550    0.450000\n",
       "Image 4553    0.400000\n",
       "Image 4406    0.516667\n",
       "Image 110     0.783333\n",
       "Image 230     0.833333\n",
       "Image 311     0.383333\n",
       "dtype: float64"
      ]
     },
     "execution_count": 6,
     "metadata": {},
     "output_type": "execute_result"
    }
   ],
   "source": [
    "seen_as_real = (df == \"Real\").sum() / num_responses  # Percentage of images classified as real\n",
    "seen_as_real"
   ]
  },
  {
   "cell_type": "code",
   "execution_count": 7,
   "id": "aec4599d-5b5c-4623-a10f-ee6b0520b867",
   "metadata": {},
   "outputs": [
    {
     "data": {
      "text/plain": [
       "Image 311    0.383333\n",
       "Image 110    0.783333\n",
       "Image 230    0.833333\n",
       "dtype: float64"
      ]
     },
     "execution_count": 7,
     "metadata": {},
     "output_type": "execute_result"
    }
   ],
   "source": [
    "originals = seen_as_real[original].sort_values()  # Select the original images\n",
    "originals"
   ]
  },
  {
   "cell_type": "markdown",
   "id": "368e0812-fdc2-4433-9d17-4cd89b257b7d",
   "metadata": {},
   "source": [
    "Only one of the images sticks out to most users as fake, that being image 311, an image of a military(?) vessil. Furthermore, image 110 scores slightly worse to image 230. Anecdotally, this is due to the \"weirdness\" of its face, as it seems divided into two halves."
   ]
  },
  {
   "cell_type": "code",
   "execution_count": 8,
   "id": "8979bb4d-3adc-4739-a940-8285e48e117d",
   "metadata": {},
   "outputs": [
    {
     "data": {
      "text/plain": [
       "count    3.000000\n",
       "mean     0.666667\n",
       "std      0.246644\n",
       "min      0.383333\n",
       "25%      0.583333\n",
       "50%      0.783333\n",
       "75%      0.808333\n",
       "max      0.833333\n",
       "dtype: float64"
      ]
     },
     "execution_count": 8,
     "metadata": {},
     "output_type": "execute_result"
    }
   ],
   "source": [
    "originals.describe()"
   ]
  },
  {
   "cell_type": "markdown",
   "id": "06c85796-47f0-447c-b5ba-bf58444b3571",
   "metadata": {},
   "source": [
    "The average"
   ]
  },
  {
   "cell_type": "code",
   "execution_count": 9,
   "id": "c1255ae3-5730-4b53-99dd-c4404eccd051",
   "metadata": {},
   "outputs": [
    {
     "data": {
      "text/plain": [
       "Image 1042    0.783333\n",
       "Image 4062    0.683333\n",
       "Image 4646    0.566667\n",
       "Image 4406    0.516667\n",
       "Image 4550    0.450000\n",
       "Image 91      0.400000\n",
       "Image 4553    0.400000\n",
       "Image 837     0.300000\n",
       "Image 4158    0.266667\n",
       "dtype: float64"
      ]
     },
     "execution_count": 9,
     "metadata": {},
     "output_type": "execute_result"
    }
   ],
   "source": [
    "fakes = seen_as_real.drop(original).sort_values(ascending=False)  # Select the recoloured images\n",
    "fakes"
   ]
  },
  {
   "cell_type": "markdown",
   "id": "0a594f1f-2cae-4fbd-a8d1-8c0b12ba6496",
   "metadata": {},
   "source": [
    "Four out of nine images fool the average user more than half of the time. With image 1042, an image of a tiger, being the most convincing."
   ]
  },
  {
   "cell_type": "code",
   "execution_count": 10,
   "id": "008302b1-e99f-4079-bbc3-58344c865c17",
   "metadata": {},
   "outputs": [
    {
     "data": {
      "text/plain": [
       "count    9.000000\n",
       "mean     0.485185\n",
       "std      0.170873\n",
       "min      0.266667\n",
       "25%      0.400000\n",
       "50%      0.450000\n",
       "75%      0.566667\n",
       "max      0.783333\n",
       "dtype: float64"
      ]
     },
     "execution_count": 10,
     "metadata": {},
     "output_type": "execute_result"
    }
   ],
   "source": [
    "fakes.describe()"
   ]
  },
  {
   "cell_type": "markdown",
   "id": "eedad973-a41d-402f-9d4a-93d76bf0e622",
   "metadata": {},
   "source": [
    "On average, 48.5% of recoloured images are miss-classified as originals. With the standard deviation being as high as it is, keep in mind that the results may be significantly better or worse depending on the image. Furthermore, keep in mind that the images used here were taken from the most realistic images generated from the ImageNet dataset."
   ]
  }
 ],
 "metadata": {
  "kernelspec": {
   "display_name": "Python 3 (ipykernel)",
   "language": "python",
   "name": "python3"
  },
  "language_info": {
   "codemirror_mode": {
    "name": "ipython",
    "version": 3
   },
   "file_extension": ".py",
   "mimetype": "text/x-python",
   "name": "python",
   "nbconvert_exporter": "python",
   "pygments_lexer": "ipython3",
   "version": "3.9.10"
  }
 },
 "nbformat": 4,
 "nbformat_minor": 5
}
